{
 "cells": [
  {
   "cell_type": "code",
   "execution_count": 3,
   "metadata": {
    "collapsed": true
   },
   "outputs": [],
   "source": [
    "import batman\n",
    "import numpy as np\n",
    "import matplotlib.pyplot as plt\n",
    "% matplotlib inline\n",
    "import scipy.optimize as spicy"
   ]
  },
  {
   "cell_type": "code",
   "execution_count": 25,
   "metadata": {
    "collapsed": false,
    "scrolled": true
   },
   "outputs": [
    {
     "data": {
      "image/png": "[encoded data removed]",
      "text/plain": [
       "<matplotlib.figure.Figure at 0x7f0e410fb0d0>"
      ]
     },
     "metadata": {},
     "output_type": "display_data"
    }
   ],
   "source": [
    "import astropy.io.ascii\n",
    "table = astropy.io.ascii.read('kepler1b.txt')\n",
    "time = table['time']\n",
    "flux = table['flux']\n",
    "nflux = flux/np.median(flux)\n",
    "uncertainty = table['uncertainty']\n",
    "plt.plot(time, nflux)\n",
    "timepart = time[3000:3500]\n",
    "fluxpart = nflux[3000:3500]\n",
    "sigmapart = uncertainty[3000:3500]"
   ]
  },
  {
   "cell_type": "code",
   "execution_count": 20,
   "metadata": {
    "collapsed": true
   },
   "outputs": [],
   "source": [
    "def batmanCurveFit(xdata, t0, rp0):\n",
    "    params = batman.TransitParams()\n",
    "    params.t0 = t0                      #time of inferior conjunction\n",
    "    params.per = 2.47061317              #orbital period\n",
    "    params.rp = rp0                   #planet radius (in units of stellar radii)\n",
    "    params.a = 7.903                     #semi-major axis (in units of stellar radii)\n",
    "    params.inc = 83.872                  #orbital inclination (in degrees)\n",
    "    params.ecc = 0.0                     #eccentricity\n",
    "    params.w = 0.0                       #longitude of periastron (in degrees)\n",
    "    params.u = [0.1, 0.3]                #limb darkening coefficients\n",
    "    params.limb_dark = \"quadratic\"       #limb darkening model\n",
    "\n",
    "\n",
    "    m = batman.TransitModel(params, xdata)\n",
    "    flux = m.light_curve(params)\n",
    "    return flux"
   ]
  },
  {
   "cell_type": "code",
   "execution_count": 27,
   "metadata": {
    "collapsed": false
   },
   "outputs": [
    {
     "data": {
      "text/plain": [
       "(0.98, 1.01)"
      ]
     },
     "execution_count": 27,
     "metadata": {},
     "output_type": "execute_result"
    },
    {
     "data": {
      "image/png": "[encoded data removed]",
      "text/plain": [
       "<matplotlib.figure.Figure at 0x7f0e3dd96590>"
      ]
     },
     "metadata": {},
     "output_type": "display_data"
    }
   ],
   "source": [
    "fitThis = spicy.curve_fit(batmanCurveFit, timepart, fluxpart, p0 = [1.0, 1.0], sigma = sigmapart)\n",
    "xbest, ybest = fitThis[0]\n",
    "plt.plot(timepart, fluxpart)\n",
    "plt.plot(timepart, batmanCurveFit(timepart, xbest, ybest), color = 'red')\n",
    "\n",
    "#plt.xlim(122, 124)\n",
    "plt.ylim(0.98, 1.01)"
   ]
  },
  {
   "cell_type": "code",
   "execution_count": 31,
   "metadata": {
    "collapsed": false
   },
   "outputs": [
    {
     "name": "stdout",
     "output_type": "stream",
     "text": [
      "     flux     \n",
      "--------------\n",
      " 1.00059317303\n",
      " 1.00032898672\n",
      "0.999259779878\n",
      " 1.00020187822\n",
      " 1.00000249232\n",
      " 1.00015203174\n",
      "0.999785660167\n",
      " 1.00034643299\n",
      " 1.00039378714\n",
      " 1.00034144834\n",
      "           ...\n",
      " 1.00034643299\n",
      " 1.00018443195\n",
      " 0.99994516888\n",
      " 1.00026169398\n",
      " 1.00046855684\n",
      " 1.00022430913\n",
      "  1.0000947083\n",
      "0.999985046058\n",
      " 1.00004486183\n",
      " 1.00023427842\n",
      " 1.00021433983\n",
      "Length = 500 rows\n"
     ]
    }
   ],
   "source": [
    "print fluxpart"
   ]
  },
  {
   "cell_type": "code",
   "execution_count": null,
   "metadata": {
    "collapsed": true
   },
   "outputs": [],
   "source": []
  }
 ],
 "metadata": {
  "kernelspec": {
   "display_name": "Python [Root]",
   "language": "python",
   "name": "Python [Root]"
  },
  "language_info": {
   "codemirror_mode": {
    "name": "ipython",
    "version": 2
   },
   "file_extension": ".py",
   "mimetype": "text/x-python",
   "name": "python",
   "nbconvert_exporter": "python",
   "pygments_lexer": "ipython2",
   "version": "2.7.12"
  }
 },
 "nbformat": 4,
 "nbformat_minor": 0
}
