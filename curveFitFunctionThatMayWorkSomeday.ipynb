{
 "cells": [
  {
   "cell_type": "code",
   "execution_count": 1,
   "metadata": {
    "collapsed": true
   },
   "outputs": [],
   "source": [
    "import batman\n",
    "import numpy as np\n",
    "import matplotlib.pyplot as plt\n",
    "% matplotlib inline\n",
    "import scipy.optimize as spicy"
   ]
  },
  {
   "cell_type": "code",
   "execution_count": 2,
   "metadata": {
    "collapsed": false,
    "scrolled": true
   },
   "outputs": [
    {
     "data": {
      "image/png": "[encoded data removed]",
      "text/plain": [
       "<matplotlib.figure.Figure at 0x1117219d0>"
      ]
     },
     "metadata": {},
     "output_type": "display_data"
    }
   ],
   "source": [
    "import astropy.io.ascii\n",
    "table = astropy.io.ascii.read('kepler1b.txt')\n",
    "time = table['time']\n",
    "flux = table['flux']\n",
    "nflux = flux/np.median(flux)\n",
    "uncertainty = table['uncertainty']\n",
    "plt.plot(time, nflux)\n",
    "timepart = time[3000:3500]\n",
    "fluxpart = nflux[3000:3500]\n",
    "sigmapart = uncertainty[3000:3500]"
   ]
  },
  {
   "cell_type": "code",
   "execution_count": 3,
   "metadata": {
    "collapsed": true
   },
   "outputs": [],
   "source": [
    "def batmanCurveFit(xdata, t0, rp0):\n",
    "    params = batman.TransitParams()\n",
    "    params.t0 = t0                      #time of inferior conjunction\n",
    "    params.per = 2.47061317              #orbital period\n",
    "    params.rp = rp0                   #planet radius (in units of stellar radii)\n",
    "    params.a = 7.903                     #semi-major axis (in units of stellar radii)\n",
    "    params.inc = 83.872                  #orbital inclination (in degrees)\n",
    "    params.ecc = 0.0                     #eccentricity\n",
    "    params.w = 0.0                       #longitude of periastron (in degrees)\n",
    "    params.u = [0.1, 0.3]                #limb darkening coefficients\n",
    "    params.limb_dark = \"quadratic\"       #limb darkening model\n",
    "\n",
    "\n",
    "    m = batman.TransitModel(params, xdata)\n",
    "    flux = m.light_curve(params)\n",
    "    return flux"
   ]
  },
  {
   "cell_type": "code",
   "execution_count": 20,
   "metadata": {
    "collapsed": false
   },
   "outputs": [
    {
     "name": "stdout",
     "output_type": "stream",
     "text": [
      "[  1.22763315e+02   1.20392571e-01]\n"
     ]
    },
    {
     "data": {
      "text/plain": [
       "<matplotlib.lines.Line2D at 0x112b90fd0>"
      ]
     },
     "execution_count": 20,
     "metadata": {},
     "output_type": "execute_result"
    },
    {
     "data": {
      "image/png": "[encoded data removed]",
      "text/plain": [
       "<matplotlib.figure.Figure at 0x112b90450>"
      ]
     },
     "metadata": {},
     "output_type": "display_data"
    }
   ],
   "source": [
    "fitThis = spicy.curve_fit(batmanCurveFit, time, nflux, p0 = [122.7, 1.0], sigma = uncertainty)\n",
    "xbest, ybest = fitThis[0]\n",
    "print fitThis[0]\n",
    "plt.plot(time, nflux)\n",
    "plt.plot(time, batmanCurveFit(time, xbest, ybest), color = 'red')\n",
    "plt.axvline(122.8, color = 'orange')"
   ]
  },
  {
   "cell_type": "code",
   "execution_count": 14,
   "metadata": {
    "collapsed": false
   },
   "outputs": [
    {
     "data": {
      "text/plain": [
       "(array([  1.22763315e+02,   1.20392568e-01]),\n",
       " array([[  1.12612901e-09,  -2.87699478e-13],\n",
       "        [ -2.87699478e-13,   8.98768172e-09]]))"
      ]
     },
     "execution_count": 14,
     "metadata": {},
     "output_type": "execute_result"
    }
   ],
   "source": [
    "fitThis"
   ]
  },
  {
   "cell_type": "code",
   "execution_count": null,
   "metadata": {
    "collapsed": true
   },
   "outputs": [],
   "source": []
  }
 ],
 "metadata": {
  "anaconda-cloud": {},
  "kernelspec": {
   "display_name": "Python [Root]",
   "language": "python",
   "name": "Python [Root]"
  },
  "language_info": {
   "codemirror_mode": {
    "name": "ipython",
    "version": 2
   },
   "file_extension": ".py",
   "mimetype": "text/x-python",
   "name": "python",
   "nbconvert_exporter": "python",
   "pygments_lexer": "ipython2",
   "version": "2.7.12"
  }
 },
 "nbformat": 4,
 "nbformat_minor": 0
}
