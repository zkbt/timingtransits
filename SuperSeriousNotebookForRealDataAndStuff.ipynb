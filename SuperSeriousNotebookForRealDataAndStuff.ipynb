{
 "cells": [
  {
   "cell_type": "code",
   "execution_count": 1,
   "metadata": {
    "collapsed": true
   },
   "outputs": [],
   "source": [
    "#This is a new notebook for use with real data. We totally won't try to divide by zero this time."
   ]
  },
  {
   "cell_type": "code",
   "execution_count": 2,
   "metadata": {
    "collapsed": false
   },
   "outputs": [],
   "source": [
    "import batman\n",
    "import numpy as np\n",
    "import matplotlib.pyplot as plt\n",
    "% matplotlib inline\n"
   ]
  },
  {
   "cell_type": "code",
   "execution_count": 3,
   "metadata": {
    "collapsed": true
   },
   "outputs": [],
   "source": [
    "def chisqa (data, model):\n",
    "    chi = 0\n",
    "    \n",
    "    for i in range(len(data)):\n",
    "        num = (data[i]-model[i])**2\n",
    "        denom = model[i]\n",
    "        summ = num/denom\n",
    "        chi = chi + summ\n",
    "    chisum = np.sum(chi)\n",
    "    return chisum\n",
    "    "
   ]
  },
  {
   "cell_type": "code",
   "execution_count": 4,
   "metadata": {
    "collapsed": false
   },
   "outputs": [
    {
     "data": {
      "text/plain": [
       "[<matplotlib.lines.Line2D at 0x7f39230d8210>]"
      ]
     },
     "execution_count": 4,
     "metadata": {},
     "output_type": "execute_result"
    },
    {
     "data": {
      "image/png": "[encoded data removed]",
      "text/plain": [
       "<matplotlib.figure.Figure at 0x7f3923c18110>"
      ]
     },
     "metadata": {},
     "output_type": "display_data"
    }
   ],
   "source": [
    "import astropy.io.ascii\n",
    "table = astropy.io.ascii.read('kepler1b.txt')\n",
    "time = table['time']\n",
    "flux = table['flux']\n",
    "nflux = flux/np.median(flux)\n",
    "uncertainty = table['uncertainty']\n",
    "plt.plot(time, nflux)\n",
    "\n"
   ]
  },
  {
   "cell_type": "code",
   "execution_count": 5,
   "metadata": {
    "collapsed": false
   },
   "outputs": [
    {
     "name": "stdout",
     "output_type": "stream",
     "text": [
      "[ 0.06666417  0.06415853  0.06162956  0.05908018  0.05651547  0.05393816\n",
      "  0.0513529   0.04876179  0.04616929  0.0435791   0.04099612  0.03842453\n",
      "  0.03587083  0.03334145  0.03084372  0.02838619  0.02597661  0.02362419\n",
      "  0.02133843  0.01912973  0.01700802  0.01498519  0.01307203  0.01128025\n",
      "  0.00962059  0.00810445  0.00674209  0.00554467  0.0045219   0.00368379\n",
      "  0.00303916  0.00259466  0.00235476  0.00232275  0.00249899  0.00288115\n",
      "  0.00346481  0.00424318  0.00520875  0.00635308  0.00766699  0.00913932\n",
      "  0.01075909  0.01251529  0.01439721  0.01639272  0.01848994  0.02067621\n",
      "  0.02294065  0.02527313  0.02766356  0.03010254  0.03258112  0.03509167\n",
      "  0.03762615  0.04017887  0.0427431   0.0453151   0.04788933  0.050463\n",
      "  0.05303135  0.05559181  0.05814087  0.06067549  0.06319163  0.06568592\n",
      "  0.0681543   0.07059209  0.07299567  0.07535964  0.07768126  0.07995166\n",
      "  0.08216702  0.08432193  0.0864121   0.08843143  0.09037549  0.09223875\n",
      "  0.09401656  0.09570363  0.09729534  0.09878769  0.10017592  0.10145793\n",
      "  0.10263051  0.103693    0.10464355  0.1054827   0.10621101  0.10683089\n",
      "  0.10734415  0.10775497  0.10806898  0.10829186  0.10842908  0.10848763\n",
      "  0.10847476  0.10839785  0.10826442  0.10808252  0.1078594 ]\n"
     ]
    }
   ],
   "source": [
    "params = batman.TransitParams()\n",
    "params.t0 = 0.0                      #time of inferior conjunction\n",
    "params.per = 2.47061317              #orbital period\n",
    "params.rp = 0.1281                   #planet radius (in units of stellar radii)\n",
    "params.a = 7.903                     #semi-major axis (in units of stellar radii)\n",
    "params.inc = 83.872                  #orbital inclination (in degrees)\n",
    "params.ecc = 0.0                     #eccentricity\n",
    "params.w = 0.0                       #longitude of periastron (in degrees)\n",
    "params.u = [0.1, 0.3]                #limb darkening coefficients\n",
    "params.limb_dark = \"quadratic\"       #limb darkening model\n",
    "\n",
    "\n",
    "plotting = False\n",
    "\n",
    "\n",
    "t00 = np.arange(-.8, -0.7, 0.001)\n",
    "chiSq = np.array([])\n",
    "for i in t00:\n",
    "\n",
    "    # set the model t0 to one value of t00\n",
    "    params.t0 = i\n",
    "    m = batman.TransitModel(params, time)\n",
    "    modelflux = m.light_curve(params)\n",
    "    chiSq = np.append(chiSq, chisqa(nflux, modelflux))\n",
    "\n",
    "    if plotting:\n",
    "        plt.plot(time, modelflux, color='orange', linewidth=3)\n",
    "        plt.scatter(time, nflux)\n",
    "        plt.title(\"t0 = {}, chi^2 = {}\".format(i, chiSq[-1]))\n",
    "        plt.show()\n",
    "#plt.scatter(t00, chiSq)\n",
    "mint00 = t00[np.argmin(chiSq)]\n",
    "print chiSq\n",
    "#plt.title(\"Mininum t00 = {}\".format(mint00))\n",
    "\n"
   ]
  },
  {
   "cell_type": "code",
   "execution_count": 6,
   "metadata": {
    "collapsed": false
   },
   "outputs": [
    {
     "name": "stdout",
     "output_type": "stream",
     "text": [
      "[  7.21114782e-02   8.21374405e-02   9.50341157e-02   1.11199709e-01\n",
      "   1.30992180e-01   1.54692635e-01   1.82332359e-01   2.14015802e-01\n",
      "   2.50386369e-01   2.91973640e-01   3.39303841e-01   3.92921559e-01\n",
      "   4.53395408e-01   5.21321616e-01   5.97325161e-01   6.82061352e-01\n",
      "   7.76217214e-01   8.80511885e-01   9.95697666e-01   1.12256156e+00\n",
      "   1.26192578e+00   1.41464840e+00   1.58162461e+00   1.76378790e+00\n",
      "   1.96211057e+00   2.17760512e+00   2.41132560e+00   2.66436873e+00\n",
      "   2.93787427e+00   3.23302769e+00   3.55106038e+00   3.89325085e+00\n",
      "   4.26092637e+00   4.65546517e+00   5.07829677e+00   5.53090435e+00\n",
      "   6.01482551e+00   6.53165500e+00   7.08304569e+00   7.67071095e+00\n",
      "   8.29642641e+00   8.96203128e+00   9.66943069e+00   1.04205976e+01\n",
      "   1.12175769e+01   1.20624853e+01   1.29575159e+01   1.39049400e+01\n",
      "   1.49071095e+01   1.59664599e+01   1.70855140e+01   1.82668843e+01\n",
      "   1.95132765e+01   2.08274939e+01   2.22124396e+01   2.36711208e+01\n",
      "   2.52066539e+01   2.68222677e+01   2.85213076e+01   3.03072402e+01\n",
      "   3.21836596e+01   3.41542915e+01   3.62229990e+01   3.83937891e+01\n",
      "   4.06708178e+01   4.30583967e+01   4.55609989e+01   4.81832683e+01\n",
      "   5.09300263e+01   5.38062797e+01   5.68172289e+01   5.99682775e+01\n",
      "   6.32650408e+01   6.67133562e+01   7.03192953e+01   7.40891741e+01\n",
      "   7.80295405e+01   8.21473089e+01   8.64495314e+01   9.09436534e+01\n",
      "   9.56374634e+01   1.00538904e+02   1.05656412e+02   1.10998840e+02\n",
      "   1.16575309e+02   1.22395291e+02   1.28469017e+02   1.34806692e+02\n",
      "   1.41419314e+02   1.48318298e+02   1.55515633e+02   1.63023812e+02\n",
      "   1.70855968e+02   1.79025863e+02   1.87547932e+02   1.96437328e+02\n",
      "   2.05709966e+02   2.15382571e+02   2.25472733e+02   2.35998944e+02\n",
      "   2.46980707e+02   2.58438711e+02   2.70394317e+02   2.82870610e+02\n",
      "   2.95891677e+02   3.09483042e+02   3.23671701e+02   3.38486241e+02\n",
      "   3.53956949e+02   3.70115922e+02   3.86997346e+02   4.04637375e+02\n",
      "   4.23074577e+02   4.42350000e+02   4.62507353e+02   4.83593288e+02\n",
      "   5.05657695e+02   5.28753870e+02   5.52938830e+02   5.78273764e+02\n",
      "   6.04824359e+02   6.32661170e+02   6.61860148e+02   6.92503163e+02\n",
      "   7.24678537e+02   7.58481826e+02   7.94016445e+02   8.31394571e+02\n",
      "   8.70738080e+02   9.12179625e+02   9.55863865e+02   1.00194886e+03\n",
      "   1.05060766e+03   1.10203016e+03   1.15642518e+03   1.21402288e+03\n",
      "   1.27507764e+03   1.33987126e+03   1.40871684e+03   1.48196317e+03\n",
      "   1.56000009e+03   1.64326464e+03   1.73224846e+03   1.82750663e+03\n",
      "   1.92966823e+03   2.03944911e+03   2.15766739e+03   2.28526238e+03\n",
      "   2.42331797e+03   2.57309138e+03   2.73604934e+03   2.91391360e+03\n",
      "   3.10871855e+03   3.32288583e+03   3.55932039e+03   3.82153756e+03\n",
      "   4.11383124e+03   4.44150175e+03   4.81116792e+03   5.23120243e+03\n",
      "   5.71235181e+03   6.26863741e+03   6.91869924e+03   7.68785931e+03\n",
      "   8.61139105e+03   9.73991058e+03   1.11486791e+04   1.29545712e+04\n",
      "   1.53492175e+04   1.86696236e+04]\n"
     ]
    }
   ],
   "source": [
    "rp0 = np.arange(0.1, 1.8, 0.01)\n",
    "chiSq2 = np.array([])\n",
    "\n",
    "for j in rp0:\n",
    "    params.rp = j\n",
    "    m = batman.TransitModel(params, time)\n",
    "    modelflux2 = m.light_curve(params)\n",
    "    chiSq2 = np.append(chiSq2, chisqa(nflux, modelflux2))\n",
    "print chiSq2"
   ]
  },
  {
   "cell_type": "code",
   "execution_count": 15,
   "metadata": {
    "collapsed": false
   },
   "outputs": [],
   "source": [
    "t00 = np.arange(-.8, -.7, 0.001)\n",
    "chiSq = np.array([])\n",
    "rp0 = np.arange(0.01, 0.2, 0.01)\n",
    "\n",
    "chichi = np.zeros([len(t00), len(rp0)])\n",
    "\n",
    "for i in range(len(t00)):\n",
    "    thist = t00[i]\n",
    "    \n",
    "    # set the model t0 to one value of t00\n",
    "    params.t0 = thist\n",
    "    m = batman.TransitModel(params, time)\n",
    "    modelflux = m.light_curve(params)\n",
    "    chiSq = np.append(chiSq, chisqa(nflux, modelflux))\n",
    "    chiSq2 = np.array([])\n",
    "    for j in range(len(rp0)):\n",
    "        #print i, j\n",
    "        thisrp = rp0[j]\n",
    "        params.rp = thisrp\n",
    "        m = batman.TransitModel(params, time)\n",
    "        modelflux2 = m.light_curve(params)\n",
    "        chichi[i,j] =  chisqa(nflux, modelflux2)\n",
    "\n",
    "#print chiSq\n",
    "#print chiSq2\n",
    "#print chichi\n"
   ]
  },
  {
   "cell_type": "code",
   "execution_count": 8,
   "metadata": {
    "collapsed": false
   },
   "outputs": [
    {
     "data": {
      "text/plain": [
       "(101, 19)"
      ]
     },
     "execution_count": 8,
     "metadata": {},
     "output_type": "execute_result"
    },
    {
     "data": {
      "image/png": "[encoded data removed]",
      "text/plain": [
       "<matplotlib.figure.Figure at 0x7f39261eba50>"
      ]
     },
     "metadata": {},
     "output_type": "display_data"
    }
   ],
   "source": [
    "\n",
    "plt.imshow(np.log(chichi), cmap='gray', vmax = -2.999, aspect = 'auto')\n",
    "\n",
    "plt.colorbar()\n",
    "chichi.shape"
   ]
  },
  {
   "cell_type": "code",
   "execution_count": 11,
   "metadata": {
    "collapsed": false
   },
   "outputs": [
    {
     "name": "stdout",
     "output_type": "stream",
     "text": [
      "[-0.767]\n",
      "[ 0.12]\n"
     ]
    }
   ],
   "source": [
    "\n",
    "row, column = np.unravel_index([np.argmin(chichi)], np.shape(chichi))\n",
    "tbest = t00[row]\n",
    "rbest = rp0[column]\n",
    "print tbest\n",
    "print rbest"
   ]
  },
  {
   "cell_type": "raw",
   "metadata": {},
   "source": [
    "make imshow plot of t0 vs rp and an imshow plot of t0 vs per\n",
    "\n",
    "comment EVERY single line of code"
   ]
  },
  {
   "cell_type": "code",
   "execution_count": 13,
   "metadata": {
    "collapsed": false
   },
   "outputs": [],
   "source": [
    "per00 = np.arange(2, 6, 0.1)\n",
    "chiSq = np.array([])\n",
    "rp0 = np.arange(0.01, 0.2, 0.001)\n",
    "\n",
    "chichi2 = np.zeros([len(t00), len(rp0)])\n",
    "\n",
    "for i in range(len(per00)):\n",
    "    thisp = per00[i]\n",
    "    \n",
    "    # set the model t0 to one value of t00\n",
    "    params.per = thist\n",
    "    m = batman.TransitModel(params, time)\n",
    "    modelflux = m.light_curve(params)\n",
    "    chiSq = np.append(chiSq, chisqa(nflux, modelflux))\n",
    "    chiSq2 = np.array([])\n",
    "    for j in range(len(rp0)):\n",
    "        #print i, j\n",
    "        thisrp = rp0[j]\n",
    "        params.rp = thisrp\n",
    "        m = batman.TransitModel(params, time)\n",
    "        modelflux2 = m.light_curve(params)\n",
    "        chichi2[i,j] =  chisqa(nflux, modelflux2)"
   ]
  },
  {
   "cell_type": "code",
   "execution_count": 14,
   "metadata": {
    "collapsed": false
   },
   "outputs": [
    {
     "data": {
      "text/plain": [
       "(101, 19)"
      ]
     },
     "execution_count": 14,
     "metadata": {},
     "output_type": "execute_result"
    },
    {
     "data": {
      "image/png": "[encoded data removed]",
      "text/plain": [
       "<matplotlib.figure.Figure at 0x7f392311c090>"
      ]
     },
     "metadata": {},
     "output_type": "display_data"
    }
   ],
   "source": [
    "\n",
    "plt.imshow(chichi2, cmap='gray', aspect='equal')#, extent=????)\n",
    "plt.colorbar()\n",
    "chichi.shape"
   ]
  }
 ],
 "metadata": {
  "anaconda-cloud": {},
  "kernelspec": {
   "display_name": "Python [Root]",
   "language": "python",
   "name": "Python [Root]"
  },
  "language_info": {
   "codemirror_mode": {
    "name": "ipython",
    "version": 2
   },
   "file_extension": ".py",
   "mimetype": "text/x-python",
   "name": "python",
   "nbconvert_exporter": "python",
   "pygments_lexer": "ipython2",
   "version": "2.7.12"
  }
 },
 "nbformat": 4,
 "nbformat_minor": 1
}
