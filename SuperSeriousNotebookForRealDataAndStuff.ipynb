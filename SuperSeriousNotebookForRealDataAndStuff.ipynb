{
 "cells": [
  {
   "cell_type": "code",
   "execution_count": 1,
   "metadata": {
    "collapsed": true
   },
   "outputs": [],
   "source": [
    "#This is a new notebook for use with real data. We totally won't try to divide by zero this time."
   ]
  },
  {
   "cell_type": "code",
   "execution_count": 12,
   "metadata": {
    "collapsed": false
   },
   "outputs": [],
   "source": [
    "import batman\n",
    "import numpy as np\n",
    "import matplotlib.pyplot as plt\n",
    "% matplotlib inline\n"
   ]
  },
  {
   "cell_type": "code",
   "execution_count": 3,
   "metadata": {
    "collapsed": true
   },
   "outputs": [],
   "source": [
    "def chisqa (data, model):\n",
    "    chi = 0\n",
    "    \n",
    "    for i in range(len(data)):\n",
    "        num = (data[i]-model[i])**2\n",
    "        denom = model[i]\n",
    "        summ = num/denom\n",
    "        chi = chi + summ\n",
    "    chisum = np.sum(chi)\n",
    "    return chisum\n",
    "    "
   ]
  },
  {
   "cell_type": "code",
   "execution_count": 17,
   "metadata": {
    "collapsed": false
   },
   "outputs": [
    {
     "data": {
      "text/plain": [
       "[<matplotlib.lines.Line2D at 0x114f6ee10>]"
      ]
     },
     "execution_count": 17,
     "metadata": {},
     "output_type": "execute_result"
    },
    {
     "data": {
      "image/png": "[encoded data removed]",
      "text/plain": [
       "<matplotlib.figure.Figure at 0x104e06550>"
      ]
     },
     "metadata": {},
     "output_type": "display_data"
    }
   ],
   "source": [
    "import astropy.io.ascii\n",
    "table = astropy.io.ascii.read('kepler1b.txt')\n",
    "time = table['time']\n",
    "flux = table['flux']\n",
    "nflux = flux/np.median(flux)\n",
    "uncertainty = table['uncertainty']\n",
    "plt.plot(time, nflux)\n",
    "\n"
   ]
  },
  {
   "cell_type": "code",
   "execution_count": 24,
   "metadata": {
    "collapsed": false
   },
   "outputs": [
    {
     "data": {
      "text/plain": [
       "<matplotlib.text.Text at 0x11627a6d0>"
      ]
     },
     "execution_count": 24,
     "metadata": {},
     "output_type": "execute_result"
    },
    {
     "data": {
      "image/png": "[encoded data removed]",
      "text/plain": [
       "<matplotlib.figure.Figure at 0x115562b10>"
      ]
     },
     "metadata": {},
     "output_type": "display_data"
    }
   ],
   "source": [
    "params = batman.TransitParams()\n",
    "params.t0 = 0.0                      #time of inferior conjunction\n",
    "params.per = 2.47061317              #orbital period\n",
    "params.rp = 0.1281                   #planet radius (in units of stellar radii)\n",
    "params.a = 7.903                     #semi-major axis (in units of stellar radii)\n",
    "params.inc = 83.872                  #orbital inclination (in degrees)\n",
    "params.ecc = 0.0                     #eccentricity\n",
    "params.w = 0.0                       #longitude of periastron (in degrees)\n",
    "params.u = [0.1, 0.3]                #limb darkening coefficients\n",
    "params.limb_dark = \"quadratic\"       #limb darkening model\n",
    "\n",
    "\n",
    "plotting = False\n",
    "\n",
    "\n",
    "t00 = np.arange(-.8, -0.7, 0.001)\n",
    "chiSq = np.array([])\n",
    "for i in t00:\n",
    "\n",
    "    # set the model t0 to one value of t00\n",
    "    params.t0 = i\n",
    "    m = batman.TransitModel(params, time)\n",
    "    modelflux = m.light_curve(params)\n",
    "    chiSq = np.append(chiSq, chisqa(nflux, modelflux))\n",
    "\n",
    "    if plotting:\n",
    "        plt.plot(time, modelflux, color='orange', linewidth=3)\n",
    "        plt.scatter(time, nflux)\n",
    "        plt.title(\"t0 = {}, chi^2 = {}\".format(i, chiSq[-1]))\n",
    "        plt.show()\n",
    "plt.scatter(t00, chiSq)\n",
    "mint00 = t00[np.argmin(chiSq)]\n",
    "#print chiSq\n",
    "plt.title(\"Mininum t00 = {}\".format(mint00))\n",
    "\n"
   ]
  },
  {
   "cell_type": "code",
   "execution_count": 28,
   "metadata": {
    "collapsed": false
   },
   "outputs": [
    {
     "name": "stderr",
     "output_type": "stream",
     "text": [
      "/Users/zactaylor/anaconda/lib/python2.7/site-packages/ipykernel/__main__.py:7: RuntimeWarning: divide by zero encountered in double_scalars\n"
     ]
    },
    {
     "ename": "KeyboardInterrupt",
     "evalue": "",
     "output_type": "error",
     "traceback": [
      "\u001b[0;31m---------------------------------------------------------------------------\u001b[0m",
      "\u001b[0;31mKeyboardInterrupt\u001b[0m                         Traceback (most recent call last)",
      "\u001b[0;32m<ipython-input-28-b9eced670055>\u001b[0m in \u001b[0;36m<module>\u001b[0;34m()\u001b[0m\n\u001b[1;32m     15\u001b[0m         \u001b[0mm\u001b[0m \u001b[0;34m=\u001b[0m \u001b[0mbatman\u001b[0m\u001b[0;34m.\u001b[0m\u001b[0mTransitModel\u001b[0m\u001b[0;34m(\u001b[0m\u001b[0mparams\u001b[0m\u001b[0;34m,\u001b[0m \u001b[0mtime\u001b[0m\u001b[0;34m)\u001b[0m\u001b[0;34m\u001b[0m\u001b[0m\n\u001b[1;32m     16\u001b[0m         \u001b[0mmodelflux2\u001b[0m \u001b[0;34m=\u001b[0m \u001b[0mm\u001b[0m\u001b[0;34m.\u001b[0m\u001b[0mlight_curve\u001b[0m\u001b[0;34m(\u001b[0m\u001b[0mparams\u001b[0m\u001b[0;34m)\u001b[0m\u001b[0;34m\u001b[0m\u001b[0m\n\u001b[0;32m---> 17\u001b[0;31m         \u001b[0mchiSq2\u001b[0m \u001b[0;34m=\u001b[0m \u001b[0mnp\u001b[0m\u001b[0;34m.\u001b[0m\u001b[0mappend\u001b[0m\u001b[0;34m(\u001b[0m\u001b[0mchiSq2\u001b[0m\u001b[0;34m,\u001b[0m \u001b[0mchisqa\u001b[0m\u001b[0;34m(\u001b[0m\u001b[0mnflux\u001b[0m\u001b[0;34m,\u001b[0m \u001b[0mmodelflux2\u001b[0m\u001b[0;34m)\u001b[0m\u001b[0;34m)\u001b[0m\u001b[0;34m\u001b[0m\u001b[0m\n\u001b[0m\u001b[1;32m     18\u001b[0m \u001b[0;34m\u001b[0m\u001b[0m\n\u001b[1;32m     19\u001b[0m \u001b[0;32mprint\u001b[0m \u001b[0mnp\u001b[0m\u001b[0;34m.\u001b[0m\u001b[0mshape\u001b[0m\u001b[0;34m(\u001b[0m\u001b[0mchiSq\u001b[0m\u001b[0;34m)\u001b[0m\u001b[0;34m\u001b[0m\u001b[0m\n",
      "\u001b[0;32m<ipython-input-3-2f4ba1163b38>\u001b[0m in \u001b[0;36mchisqa\u001b[0;34m(data, model)\u001b[0m\n\u001b[1;32m      5\u001b[0m         \u001b[0mnum\u001b[0m \u001b[0;34m=\u001b[0m \u001b[0;34m(\u001b[0m\u001b[0mdata\u001b[0m\u001b[0;34m[\u001b[0m\u001b[0mi\u001b[0m\u001b[0;34m]\u001b[0m\u001b[0;34m-\u001b[0m\u001b[0mmodel\u001b[0m\u001b[0;34m[\u001b[0m\u001b[0mi\u001b[0m\u001b[0;34m]\u001b[0m\u001b[0;34m)\u001b[0m\u001b[0;34m**\u001b[0m\u001b[0;36m2\u001b[0m\u001b[0;34m\u001b[0m\u001b[0m\n\u001b[1;32m      6\u001b[0m         \u001b[0mdenom\u001b[0m \u001b[0;34m=\u001b[0m \u001b[0mmodel\u001b[0m\u001b[0;34m[\u001b[0m\u001b[0mi\u001b[0m\u001b[0;34m]\u001b[0m\u001b[0;34m\u001b[0m\u001b[0m\n\u001b[0;32m----> 7\u001b[0;31m         \u001b[0msumm\u001b[0m \u001b[0;34m=\u001b[0m \u001b[0mnum\u001b[0m\u001b[0;34m/\u001b[0m\u001b[0mdenom\u001b[0m\u001b[0;34m\u001b[0m\u001b[0m\n\u001b[0m\u001b[1;32m      8\u001b[0m         \u001b[0mchi\u001b[0m \u001b[0;34m=\u001b[0m \u001b[0mchi\u001b[0m \u001b[0;34m+\u001b[0m \u001b[0msumm\u001b[0m\u001b[0;34m\u001b[0m\u001b[0m\n\u001b[1;32m      9\u001b[0m     \u001b[0mchisum\u001b[0m \u001b[0;34m=\u001b[0m \u001b[0mnp\u001b[0m\u001b[0;34m.\u001b[0m\u001b[0msum\u001b[0m\u001b[0;34m(\u001b[0m\u001b[0mchi\u001b[0m\u001b[0;34m)\u001b[0m\u001b[0;34m\u001b[0m\u001b[0m\n",
      "\u001b[0;31mKeyboardInterrupt\u001b[0m: "
     ]
    }
   ],
   "source": [
    "t00 = np.arange(-.8, -0.7, 0.001)\n",
    "chiSq = np.array([])\n",
    "rp0 = np.arange(0.1, 2, 0.1)\n",
    "chiSq2 = np.array([])\n",
    "\n",
    "for i in t00:\n",
    "\n",
    "    # set the model t0 to one value of t00\n",
    "    params.t0 = i\n",
    "    m = batman.TransitModel(params, time)\n",
    "    modelflux = m.light_curve(params)\n",
    "    chiSq = np.append(chiSq, chisqa(nflux, modelflux))\n",
    "    for j in rp0:\n",
    "        params.rp = j\n",
    "        m = batman.TransitModel(params, time)\n",
    "        modelflux2 = m.light_curve(params)\n",
    "        chiSq2 = np.append(chiSq2, chisqa(nflux, modelflux2))\n",
    "chichi = np.array([chiSq, chiSq2])\n",
    "        \n",
    "print np.shape(chiSq)\n",
    "print np.shape(chiSq2)"
   ]
  },
  {
   "cell_type": "raw",
   "metadata": {},
   "source": [
    "make imshow plot of t0 vs rp and an imshow plot of t0 vs per\n",
    "\n",
    "comment EVERY single line of code"
   ]
  }
 ],
 "metadata": {
  "anaconda-cloud": {},
  "kernelspec": {
   "display_name": "Python [Root]",
   "language": "python",
   "name": "Python [Root]"
  },
  "language_info": {
   "codemirror_mode": {
    "name": "ipython",
    "version": 2
   },
   "file_extension": ".py",
   "mimetype": "text/x-python",
   "name": "python",
   "nbconvert_exporter": "python",
   "pygments_lexer": "ipython2",
   "version": "2.7.12"
  }
 },
 "nbformat": 4,
 "nbformat_minor": 1
}
