{
 "cells": [
  {
   "cell_type": "code",
   "execution_count": 1,
   "metadata": {
    "collapsed": true
   },
   "outputs": [],
   "source": [
    "#This is a new notebook for use with real data. We totally won't try to divide by zero this time."
   ]
  },
  {
   "cell_type": "code",
   "execution_count": 1,
   "metadata": {
    "collapsed": false
   },
   "outputs": [],
   "source": [
    "import batman\n",
    "import numpy as np\n",
    "import matplotlib.pyplot as plt\n",
    "% matplotlib inline\n"
   ]
  },
  {
   "cell_type": "code",
   "execution_count": 2,
   "metadata": {
    "collapsed": true
   },
   "outputs": [],
   "source": [
    "def chisqa (data, model):\n",
    "    chi = 0\n",
    "    \n",
    "    for i in range(len(data)):\n",
    "        num = (data[i]-model[i])**2\n",
    "        denom = model[i]\n",
    "        summ = num/denom\n",
    "        chi = chi + summ\n",
    "    chisum = np.sum(chi)\n",
    "    return chisum\n",
    "    "
   ]
  },
  {
   "cell_type": "code",
   "execution_count": 3,
   "metadata": {
    "collapsed": false
   },
   "outputs": [
    {
     "data": {
      "text/plain": [
       "[<matplotlib.lines.Line2D at 0x10fe2aa50>]"
      ]
     },
     "execution_count": 3,
     "metadata": {},
     "output_type": "execute_result"
    },
    {
     "data": {
      "image/png": "[encoded data removed]",
      "text/plain": [
       "<matplotlib.figure.Figure at 0x10fc9b1d0>"
      ]
     },
     "metadata": {},
     "output_type": "display_data"
    }
   ],
   "source": [
    "import astropy.io.ascii\n",
    "table = astropy.io.ascii.read('kepler1b.txt')\n",
    "time = table['time']\n",
    "flux = table['flux']\n",
    "nflux = flux/np.median(flux)\n",
    "uncertainty = table['uncertainty']\n",
    "plt.plot(time, nflux)\n",
    "\n"
   ]
  },
  {
   "cell_type": "code",
   "execution_count": 13,
   "metadata": {
    "collapsed": false
   },
   "outputs": [
    {
     "name": "stdout",
     "output_type": "stream",
     "text": [
      "[ 0.06666417  0.06415853  0.06162956  0.05908018  0.05651547  0.05393816\n",
      "  0.0513529   0.04876179  0.04616929  0.0435791   0.04099612  0.03842453\n",
      "  0.03587083  0.03334145  0.03084372  0.02838619  0.02597661  0.02362419\n",
      "  0.02133843  0.01912973  0.01700802  0.01498519  0.01307203  0.01128025\n",
      "  0.00962059  0.00810445  0.00674209  0.00554467  0.0045219   0.00368379\n",
      "  0.00303916  0.00259466  0.00235476  0.00232275  0.00249899  0.00288115\n",
      "  0.00346481  0.00424318  0.00520875  0.00635308  0.00766699  0.00913932\n",
      "  0.01075909  0.01251529  0.01439721  0.01639272  0.01848994  0.02067621\n",
      "  0.02294065  0.02527313  0.02766356  0.03010254  0.03258112  0.03509167\n",
      "  0.03762615  0.04017887  0.0427431   0.0453151   0.04788933  0.050463\n",
      "  0.05303135  0.05559181  0.05814087  0.06067549  0.06319163  0.06568592\n",
      "  0.0681543   0.07059209  0.07299567  0.07535964  0.07768126  0.07995166\n",
      "  0.08216702  0.08432193  0.0864121   0.08843143  0.09037549  0.09223875\n",
      "  0.09401656  0.09570363  0.09729534  0.09878769  0.10017592  0.10145793\n",
      "  0.10263051  0.103693    0.10464355  0.1054827   0.10621101  0.10683089\n",
      "  0.10734415  0.10775497  0.10806898  0.10829186  0.10842908  0.10848763\n",
      "  0.10847476  0.10839785  0.10826442  0.10808252  0.1078594 ]\n"
     ]
    }
   ],
   "source": [
    "params = batman.TransitParams()\n",
    "params.t0 = 0.0                      #time of inferior conjunction\n",
    "params.per = 2.47061317              #orbital period\n",
    "params.rp = 0.1281                   #planet radius (in units of stellar radii)\n",
    "params.a = 7.903                     #semi-major axis (in units of stellar radii)\n",
    "params.inc = 83.872                  #orbital inclination (in degrees)\n",
    "params.ecc = 0.0                     #eccentricity\n",
    "params.w = 0.0                       #longitude of periastron (in degrees)\n",
    "params.u = [0.1, 0.3]                #limb darkening coefficients\n",
    "params.limb_dark = \"quadratic\"       #limb darkening model\n",
    "\n",
    "\n",
    "plotting = False\n",
    "\n",
    "\n",
    "t00 = np.arange(-.8, -0.7, 0.001)\n",
    "chiSq = np.array([])\n",
    "for i in t00:\n",
    "\n",
    "    # set the model t0 to one value of t00\n",
    "    params.t0 = i\n",
    "    m = batman.TransitModel(params, time)\n",
    "    modelflux = m.light_curve(params)\n",
    "    chiSq = np.append(chiSq, chisqa(nflux, modelflux))\n",
    "\n",
    "    if plotting:\n",
    "        plt.plot(time, modelflux, color='orange', linewidth=3)\n",
    "        plt.scatter(time, nflux)\n",
    "        plt.title(\"t0 = {}, chi^2 = {}\".format(i, chiSq[-1]))\n",
    "        plt.show()\n",
    "#plt.scatter(t00, chiSq)\n",
    "mint00 = t00[np.argmin(chiSq)]\n",
    "print chiSq\n",
    "#plt.title(\"Mininum t00 = {}\".format(mint00))\n",
    "\n"
   ]
  },
  {
   "cell_type": "code",
   "execution_count": 18,
   "metadata": {
    "collapsed": false
   },
   "outputs": [
    {
     "name": "stderr",
     "output_type": "stream",
     "text": [
      "/Users/zactaylor/anaconda/lib/python2.7/site-packages/ipykernel/__main__.py:7: RuntimeWarning: divide by zero encountered in double_scalars\n"
     ]
    },
    {
     "name": "stdout",
     "output_type": "stream",
     "text": [
      "[ array([ 1.24601678,         inf,         inf,         inf,         inf,\n",
      "               inf,         inf,         inf,         inf,         inf,\n",
      "               inf,         inf,         inf,         inf,         inf,\n",
      "               inf,         inf,         inf,         inf,         inf,\n",
      "               inf,         inf,         inf,         inf,         inf,\n",
      "               inf,         inf,         inf,         inf,         inf,\n",
      "               inf,         inf,         inf,         inf,         inf,\n",
      "               inf,         inf,         inf,         inf,         inf,\n",
      "               inf,         inf,         inf,         inf,         inf,\n",
      "               inf,         inf,         inf,         inf,         inf,\n",
      "               inf,         inf,         inf,         inf,         inf,\n",
      "               inf,         inf,         inf,         inf,         inf,\n",
      "               inf,         inf,         inf,         inf,         inf,\n",
      "               inf,         inf,         inf,         inf,         inf,\n",
      "               inf,         inf,         inf,         inf,         inf,\n",
      "               inf,         inf,         inf,         inf,         inf,\n",
      "               inf,         inf,         inf,         inf,         inf,\n",
      "               inf,         inf,         inf,         inf,         inf,\n",
      "               inf,         inf,         inf,         inf,         inf,\n",
      "               inf,         inf,         inf,         inf,         inf,\n",
      "               inf])\n",
      " array([ 0.04617148,  0.05109425,  0.05851951, ...,         inf,\n",
      "               inf,         inf])]\n"
     ]
    }
   ],
   "source": [
    "t00 = np.arange(-.8, -0.7, 0.001)\n",
    "chiSq = np.array([])\n",
    "rp0 = np.arange(0.1, 2, 0.01)\n",
    "chiSq2 = np.array([])\n",
    "\n",
    "for i in t00:\n",
    "\n",
    "    # set the model t0 to one value of t00\n",
    "    params.t0 = i\n",
    "    m = batman.TransitModel(params, time)\n",
    "    modelflux = m.light_curve(params)\n",
    "    chiSq = np.append(chiSq, chisqa(nflux, modelflux))\n",
    "    for j in rp0:\n",
    "        params.rp = j\n",
    "        m = batman.TransitModel(params, time)\n",
    "        modelflux2 = m.light_curve(params)\n",
    "        chiSq2 = np.append(chiSq2, chisqa(nflux, modelflux2))\n",
    "chichi = np.array([chiSq, chiSq2])\n",
    "        \n",
    "#print chiSq\n",
    "#print chiSq2\n",
    "print chichi\n"
   ]
  },
  {
   "cell_type": "raw",
   "metadata": {},
   "source": [
    "make imshow plot of t0 vs rp and an imshow plot of t0 vs per\n",
    "\n",
    "comment EVERY single line of code"
   ]
  },
  {
   "cell_type": "code",
   "execution_count": null,
   "metadata": {
    "collapsed": true
   },
   "outputs": [],
   "source": [
    "plt.imshow()"
   ]
  }
 ],
 "metadata": {
  "anaconda-cloud": {},
  "kernelspec": {
   "display_name": "Python [Root]",
   "language": "python",
   "name": "Python [Root]"
  },
  "language_info": {
   "codemirror_mode": {
    "name": "ipython",
    "version": 2
   },
   "file_extension": ".py",
   "mimetype": "text/x-python",
   "name": "python",
   "nbconvert_exporter": "python",
   "pygments_lexer": "ipython2",
   "version": "2.7.12"
  }
 },
 "nbformat": 4,
 "nbformat_minor": 1
}
