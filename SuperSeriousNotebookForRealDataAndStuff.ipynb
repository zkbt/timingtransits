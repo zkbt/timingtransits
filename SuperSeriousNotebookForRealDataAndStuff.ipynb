{
 "cells": [
  {
   "cell_type": "code",
   "execution_count": 1,
   "metadata": {
    "collapsed": true
   },
   "outputs": [],
   "source": [
    "#This is a new notebook for use with real data. We totally won't try to divide by zero this time."
   ]
  },
  {
   "cell_type": "code",
   "execution_count": 1,
   "metadata": {
    "collapsed": false
   },
   "outputs": [
    {
     "data": {
      "image/png": "[encoded data removed]",
      "text/plain": [
       "<matplotlib.figure.Figure at 0x1049fa450>"
      ]
     },
     "metadata": {},
     "output_type": "display_data"
    }
   ],
   "source": [
    "import batman\n",
    "import numpy as np\n",
    "import matplotlib.pyplot as plt\n",
    "% matplotlib inline\n",
    "\n",
    "params = batman.TransitParams()\n",
    "params.t0 = 0.                       #time of inferior conjunction\n",
    "params.per = 1.                      #orbital period\n",
    "params.rp = 0.1                      #planet radius (in units of stellar radii)\n",
    "params.a = 15.                       #semi-major axis (in units of stellar radii)\n",
    "params.inc = 87.                     #orbital inclination (in degrees)\n",
    "params.ecc = 0.                      #eccentricity\n",
    "params.w = 90.                       #longitude of periastron (in degrees)\n",
    "params.u = [0.1, 0.3]                #limb darkening coefficients\n",
    "params.limb_dark = \"quadratic\"       #limb darkening model\n",
    "\n",
    "t = np.linspace(-0.05, 0.05, 100)\n",
    "\n",
    "m = batman.TransitModel(params, t)    #initializes model\n",
    "flux = m.light_curve(params)          #calculates light curve\n",
    "\n",
    "plt.plot(t, flux)\n",
    "plt.xlabel(\"Time from central transit\")\n",
    "plt.ylabel(\"Relative flux\")\n",
    "plt.ylim((0.989, 1.001))\n",
    "\n",
    "plt.show()"
   ]
  },
  {
   "cell_type": "code",
   "execution_count": 2,
   "metadata": {
    "collapsed": true
   },
   "outputs": [],
   "source": [
    "def chisqa (data, model):\n",
    "    chi = 0\n",
    "    \n",
    "    for i in range(len(data)):\n",
    "        num = (data[i]-model[i])**2\n",
    "        denom = model[i]\n",
    "        summ = num/denom\n",
    "        chi = chi + summ\n",
    "    chisum = np.sum(chi)\n",
    "    return chisum\n",
    "    "
   ]
  },
  {
   "cell_type": "code",
   "execution_count": 3,
   "metadata": {
    "collapsed": false
   },
   "outputs": [
    {
     "ename": "NameError",
     "evalue": "name 'times' is not defined",
     "output_type": "error",
     "traceback": [
      "\u001b[0;31m---------------------------------------------------------------------------\u001b[0m",
      "\u001b[0;31mNameError\u001b[0m                                 Traceback (most recent call last)",
      "\u001b[0;32m<ipython-input-3-3b6145b30d55>\u001b[0m in \u001b[0;36m<module>\u001b[0;34m()\u001b[0m\n\u001b[0;32m----> 1\u001b[0;31m \u001b[0mplt\u001b[0m\u001b[0;34m.\u001b[0m\u001b[0mscatter\u001b[0m\u001b[0;34m(\u001b[0m\u001b[0mtimes\u001b[0m\u001b[0;34m,\u001b[0m \u001b[0msimulateddata\u001b[0m\u001b[0;34m)\u001b[0m\u001b[0;34m\u001b[0m\u001b[0m\n\u001b[0m\u001b[1;32m      2\u001b[0m \u001b[0;34m\u001b[0m\u001b[0m\n\u001b[1;32m      3\u001b[0m \u001b[0mdata\u001b[0m \u001b[0;34m=\u001b[0m \u001b[0mnp\u001b[0m\u001b[0;34m.\u001b[0m\u001b[0marray\u001b[0m\u001b[0;34m(\u001b[0m\u001b[0;34m[\u001b[0m\u001b[0mtimes\u001b[0m\u001b[0;34m,\u001b[0m \u001b[0msimulateddata\u001b[0m\u001b[0;34m]\u001b[0m\u001b[0;34m)\u001b[0m\u001b[0;34m\u001b[0m\u001b[0m\n\u001b[1;32m      4\u001b[0m \u001b[0;34m\u001b[0m\u001b[0m\n\u001b[1;32m      5\u001b[0m \u001b[0;31m# generate some model\u001b[0m\u001b[0;34m\u001b[0m\u001b[0;34m\u001b[0m\u001b[0m\n",
      "\u001b[0;31mNameError\u001b[0m: name 'times' is not defined"
     ]
    }
   ],
   "source": [
    "plt.scatter(times, simulateddata)\n",
    "\n",
    "data = np.array([times, simulateddata])\n",
    "\n",
    "# generate some model\n",
    "params.t0 = 0.0\n",
    "model = m.light_curve(params)\n",
    "plt.plot(times, model, color='orange', linewidth=3)\n",
    "\n",
    "theory = np.array([times, model])"
   ]
  },
  {
   "cell_type": "code",
   "execution_count": 4,
   "metadata": {
    "collapsed": false
   },
   "outputs": [
    {
     "data": {
      "text/plain": [
       "<matplotlib.text.Text at 0x1116d5310>"
      ]
     },
     "execution_count": 4,
     "metadata": {},
     "output_type": "execute_result"
    },
    {
     "data": {
      "image/png": "[encoded data removed]",
      "text/plain": [
       "<matplotlib.figure.Figure at 0x1111101d0>"
      ]
     },
     "metadata": {},
     "output_type": "display_data"
    }
   ],
   "source": [
    "from simulate import simulate\n",
    "times, noise = simulate()\n",
    "m = batman.TransitModel(params, times)\n",
    "\n",
    "# generate simulated data!\n",
    "params.rp = 1.0\n",
    "flux = m.light_curve(params)\n",
    "simulateddata = flux*noise\n",
    "\n",
    "plotting = False\n",
    "\n",
    "\n",
    "t00 = np.arange(-0.3, 0.3, 0.001)\n",
    "chiSq = np.array([])\n",
    "for i in t00:\n",
    "\n",
    "    # set the model t0 to one value of t00\n",
    "    params.t0 = i\n",
    "    modelflux = m.light_curve(params)\n",
    "    chiSq = np.append(chiSq, chisqa(simulateddata, modelflux))\n",
    "\n",
    "    if plotting:\n",
    "        plt.plot(times, modelflux, color='orange', linewidth=3)\n",
    "        plt.scatter(times, simulateddata)\n",
    "        plt.title(\"t0 = {}, chi^2 = {}\".format(i, chiSq[-1]))\n",
    "        plt.show()\n",
    "plt.scatter(t00, chiSq)\n",
    "mint00 = t00[np.argmin(chiSq)]\n",
    "#print chiSq\n",
    "plt.title(\"Mininum t00 = {}\".format(mint00))"
   ]
  },
  {
   "cell_type": "code",
   "execution_count": 5,
   "metadata": {
    "collapsed": true
   },
   "outputs": [],
   "source": [
    "import astropy.io.ascii\n",
    "table = astropy.io.ascii.read('kepler1b.txt')\n",
    "time = table['time']\n",
    "flux = table['flux']\n",
    "uncertainty = table['uncertainty']"
   ]
  },
  {
   "cell_type": "code",
   "execution_count": 8,
   "metadata": {
    "collapsed": false
   },
   "outputs": [
    {
     "data": {
      "text/plain": [
       "<matplotlib.text.Text at 0x113484850>"
      ]
     },
     "execution_count": 8,
     "metadata": {},
     "output_type": "execute_result"
    },
    {
     "data": {
      "image/png": "[encoded data removed]",
      "text/plain": [
       "<matplotlib.figure.Figure at 0x110f710d0>"
      ]
     },
     "metadata": {},
     "output_type": "display_data"
    }
   ],
   "source": [
    "params = batman.TransitParams()\n",
    "params.t0 = 0.0                      #time of inferior conjunction\n",
    "params.per = 2.47061317              #orbital period\n",
    "params.rp = 0.1281                   #planet radius (in units of stellar radii)\n",
    "params.a = 0.0367                    #semi-major axis (in units of stellar radii)\n",
    "params.inc = 83.872                  #orbital inclination (in degrees)\n",
    "params.ecc = 0.0                     #eccentricity\n",
    "params.w = 0.0                       #longitude of periastron (in degrees)\n",
    "params.u = [0.1, 0.3]                #limb darkening coefficients\n",
    "params.limb_dark = \"quadratic\"       #limb darkening model\n",
    "\n",
    "from simulate import simulate\n",
    "times, noise = simulate()\n",
    "m = batman.TransitModel(params, times)\n",
    "\n",
    "# generate simulated data!\n",
    "\n",
    "flux = m.light_curve(params)\n",
    "simulateddata = flux*noise\n",
    "\n",
    "plotting = False\n",
    "\n",
    "\n",
    "t00 = np.arange(-0.5, 0.5, 0.01)\n",
    "chiSq = np.array([])\n",
    "for i in t00:\n",
    "\n",
    "    # set the model t0 to one value of t00\n",
    "    params.t0 = i\n",
    "    modelflux = m.light_curve(params)\n",
    "    chiSq = np.append(chiSq, chisqa(simulateddata, modelflux))\n",
    "\n",
    "    if plotting:\n",
    "        plt.plot(times, modelflux, color='orange', linewidth=3)\n",
    "        plt.scatter(times, simulateddata)\n",
    "        plt.title(\"t0 = {}, chi^2 = {}\".format(i, chiSq[-1]))\n",
    "        plt.show()\n",
    "plt.scatter(t00, chiSq)\n",
    "mint00 = t00[np.argmin(chiSq)]\n",
    "#print chiSq\n",
    "plt.title(\"Mininum t00 = {}\".format(mint00))"
   ]
  },
  {
   "cell_type": "code",
   "execution_count": null,
   "metadata": {
    "collapsed": true
   },
   "outputs": [],
   "source": []
  }
 ],
 "metadata": {
  "anaconda-cloud": {},
  "kernelspec": {
   "display_name": "Python [Root]",
   "language": "python",
   "name": "Python [Root]"
  },
  "language_info": {
   "codemirror_mode": {
    "name": "ipython",
    "version": 2
   },
   "file_extension": ".py",
   "mimetype": "text/x-python",
   "name": "python",
   "nbconvert_exporter": "python",
   "pygments_lexer": "ipython2",
   "version": "2.7.12"
  }
 },
 "nbformat": 4,
 "nbformat_minor": 1
}
